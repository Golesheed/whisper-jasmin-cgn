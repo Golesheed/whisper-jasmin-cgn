{
 "cells": [
  {
   "cell_type": "markdown",
   "metadata": {
    "id": "CURM21BlwPZF"
   },
   "source": [
    "  Getting the dataset"
   ]
  },
  {
   "cell_type": "code",
   "execution_count": null,
   "metadata": {
    "colab": {
     "base_uri": "https://localhost:8080/",
     "height": 424
    },
    "id": "bjoQNpVegb8W",
    "outputId": "7c8b3e33-77fc-48dc-a29a-9579694d4751",
    "scrolled": true
   },
   "outputs": [],
   "source": [
    "import pandas as pd\n",
    "df = pd.DataFrame(pd.read_csv(\"/path/recordings5.csv\"))\n",
    "df"
   ]
  },
  {
   "cell_type": "code",
   "execution_count": null,
   "metadata": {
    "scrolled": true
   },
   "outputs": [],
   "source": [
    "import re\n",
    "\n",
    "df['Sentence'] = df['Sentence'].str.replace('*v','')\n",
    "df['Sentence'] = df['Sentence'].str.replace('*d','')\n",
    "df['Sentence'] = df['Sentence'].str.replace('*z','')\n",
    "df['Sentence'] = df['Sentence'].str.replace('*n','')\n",
    "df['Sentence'] = df['Sentence'].str.replace('*a','')\n",
    "df['Sentence'] = df['Sentence'].str.replace('*u','')\n",
    "df['Sentence'] = df['Sentence'].str.replace('*f','')\n",
    "df['Sentence'] = df['Sentence'].str.replace('*s','')\n",
    "df['Sentence'] = df['Sentence'].str.replace('*x','')\n",
    "df['Sentence'] = df['Sentence'].str.replace('ggg.','')\n",
    "df['Sentence'] = df['Sentence'].str.replace('ggg','')\n",
    "df['Sentence'] = df['Sentence'].str.replace('xxx','')\n",
    "df['Sentence'] = df['Sentence'].str.replace('xxx.','')\n",
    "df"
   ]
  },
  {
   "cell_type": "markdown",
   "metadata": {
    "id": "TsihCtCTwY9r"
   },
   "source": [
    "Adding the root to dataset"
   ]
  },
  {
   "cell_type": "markdown",
   "metadata": {
    "id": "DUdBCjHWwcUx"
   },
   "source": [
    "Making different datasets of native and non-native children and elderly and splitting the dataset to 3 subsets (70% to train, 20% validation and 10% for testing)\n"
   ]
  },
  {
   "cell_type": "code",
   "execution_count": null,
   "metadata": {
    "id": "ZxpZ7gtvmFX7"
   },
   "outputs": [],
   "source": [
    "data = []\n",
    "df_d = pd.DataFrame(data)\n",
    "entry = df.loc[(df['Group'] == 1)]\n",
    "df_nc = pd.concat([df_d,entry])\n",
    "entry = df.loc[(df['Group'] == 2)]\n",
    "df_nc = pd.concat([df_nc,entry])\n",
    "df_nc.to_csv('/path/nc/native_children.csv')"
   ]
  },
  {
   "cell_type": "code",
   "execution_count": null,
   "metadata": {
    "id": "i0QLhh-nqmlA"
   },
   "outputs": [],
   "source": [
    "data = []\n",
    "df_d = pd.DataFrame(data)\n",
    "entry = df.loc[(df['Group'] == 3)]\n",
    "df_nnc = pd.concat([df_d,entry])\n",
    "df_nnc.to_csv('/path/nnc/non_native_children.csv')"
   ]
  },
  {
   "cell_type": "code",
   "execution_count": null,
   "metadata": {
    "id": "dYpTpjyKqoi6"
   },
   "outputs": [],
   "source": [
    "data = []\n",
    "df_d = pd.DataFrame(data)\n",
    "entry = df.loc[(df['Group'] == 5)]\n",
    "df_e = pd.concat([df_d,entry])\n",
    "df_e.to_csv('/path/e/elderly.csv')"
   ]
  },
  {
   "cell_type": "code",
   "execution_count": null,
   "metadata": {},
   "outputs": [],
   "source": [
    "data = []\n",
    "df_d = pd.DataFrame(data)\n",
    "entry = df.loc[(df['Group'] == 4)]\n",
    "df_a = pd.concat([df_d,entry])\n",
    "df_a.to_csv('/path/a/adult.csv')"
   ]
  }
 ],
 "metadata": {
  "colab": {
   "provenance": []
  },
  "kernelspec": {
   "display_name": "Python 3 (ipykernel)",
   "language": "python",
   "name": "python3"
  },
  "language_info": {
   "codemirror_mode": {
    "name": "ipython",
    "version": 3
   },
   "file_extension": ".py",
   "mimetype": "text/x-python",
   "name": "python",
   "nbconvert_exporter": "python",
   "pygments_lexer": "ipython3",
   "version": "3.9.5"
  }
 },
 "nbformat": 4,
 "nbformat_minor": 4
}
