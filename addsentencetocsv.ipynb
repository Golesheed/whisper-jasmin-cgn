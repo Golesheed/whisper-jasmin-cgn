{
 "cells": [
  {
   "cell_type": "code",
   "execution_count": null,
   "metadata": {
    "colab": {
     "base_uri": "https://localhost:8080/",
     "height": 424
    },
    "id": "eQwtNIB9DAHg",
    "outputId": "b8fe926e-ff01-4999-f32f-2929837f4f6b"
   },
   "outputs": [],
   "source": [
    "import re\n",
    "import pandas as pd\n",
    "df = pd.DataFrame(pd.read_csv('/path/Data/data/meta/csv/nl/recordings.csv'))\n",
    "df"
   ]
  },
  {
   "cell_type": "code",
   "execution_count": null,
   "metadata": {
    "id": "JWpNOchG_w0y"
   },
   "outputs": [],
   "source": [
    "sentences = []\n",
    "for i, j in df.iterrows():\n",
    "  file1 = open('/gpath/Data/data/annot/text/ort/nlort/'+j[\"Root\"]+'.ort', encoding = \"ISO-8859-1\")\n",
    "  Lines = file1.readlines()\n",
    "\n",
    "  count = 0\n",
    "  utter = \"\"\n",
    "  id_finder = False\n",
    "  # Strips the newline character\n",
    "  for line in Lines:\n",
    "    if re.match(r'\"N0|\"N1', line):\n",
    "      id_finder = True\n",
    "      continue\n",
    "    if not id_finder:\n",
    "      continue\n",
    "    if line[0]!='\"':\n",
    "      continue\n",
    "    else:\n",
    "      if  line[1:len(line)-2] == \"IntervalTier\" or line[1:len(line)-2] == \"TextTier\":\n",
    "        break\n",
    "      if line[1]=='\"':\n",
    "        continue\n",
    "      else:\n",
    "        utter = utter + line[1:len(line)-2] + \" \"\n",
    "  sentences.append(utter)\n",
    "df['Sentence'] = sentences\n",
    "df.to_csv('/path/Data/data/meta/csv/nl/recordings22.csv', index=False, encoding= \"ISO-8859-1\")"
   ]
  },
  {
   "cell_type": "code",
   "execution_count": null,
   "metadata": {
    "id": "jx28rnX8FaD7"
   },
   "outputs": [],
   "source": [
    "df"
   ]
  }
 ],
 "metadata": {
  "colab": {
   "provenance": []
  },
  "kernelspec": {
   "display_name": "Python 3 (ipykernel)",
   "language": "python",
   "name": "python3"
  },
  "language_info": {
   "codemirror_mode": {
    "name": "ipython",
    "version": 3
   },
   "file_extension": ".py",
   "mimetype": "text/x-python",
   "name": "python",
   "nbconvert_exporter": "python",
   "pygments_lexer": "ipython3",
   "version": "3.9.5"
  }
 },
 "nbformat": 4,
 "nbformat_minor": 4
}
