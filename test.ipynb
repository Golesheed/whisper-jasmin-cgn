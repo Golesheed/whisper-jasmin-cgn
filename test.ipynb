{
 "cells": [
  {
   "cell_type": "code",
   "execution_count": null,
   "metadata": {
    "scrolled": true
   },
   "outputs": [],
   "source": [
    "!pip install datasets\n",
    "!pip install transformers\n",
    "!pip install torchaudio\n",
    "!pip install jiwer\n",
    "!pip install soundfile\n",
    "!pip install librosa\n",
    "!pip install evaluate\n",
    "!pip install torchaudio"
   ]
  },
  {
   "cell_type": "code",
   "execution_count": null,
   "metadata": {},
   "outputs": [],
   "source": [
    "# gpu_info = !nvidia-smi\n",
    "# gpu_info = '\\n'.join(gpu_info)\n",
    "# if gpu_info.find('failed') >= 0:\n",
    "#   print('Not connected to a GPU')\n",
    "# else:\n",
    "#   print(gpu_info)"
   ]
  },
  {
   "cell_type": "code",
   "execution_count": null,
   "metadata": {},
   "outputs": [],
   "source": [
    "# from numba import cuda \n",
    "# device = cuda.get_current_device()\n",
    "# device.reset()"
   ]
  },
  {
   "cell_type": "code",
   "execution_count": null,
   "metadata": {},
   "outputs": [],
   "source": [
    "from transformers import pipeline\n",
    "from datasets import load_dataset, load_metric, Audio, ClassLabel, load_from_disk, Features, Value\n",
    "import evaluate"
   ]
  },
  {
   "cell_type": "code",
   "execution_count": null,
   "metadata": {},
   "outputs": [],
   "source": [
    "from huggingface_hub import notebook_login\n",
    "\n",
    "notebook_login()"
   ]
  },
  {
   "cell_type": "code",
   "execution_count": null,
   "metadata": {},
   "outputs": [],
   "source": [
    "!git lfs"
   ]
  },
  {
   "cell_type": "code",
   "execution_count": null,
   "metadata": {},
   "outputs": [],
   "source": [
    "print(\"----------------- Loading Datasets... -----------------\")\n",
    "features = Features(\n",
    "    {\n",
    "        \"Unnamed: 0\": Value(\"int32\"),\n",
    "        \"Root\": Value(\"string\"),\n",
    "        \"SpeakerID\": Value(\"string\"),\n",
    "        \"Component\": Value(\"string\"),\n",
    "        \"Group\": Value(\"int32\"),\n",
    "        \"Age\": Value(\"int32\"),\n",
    "        \"Gender\": Value(\"string\"),\n",
    "        \"CEF\": Value(\"string\"),\n",
    "        \"DialectRegion\": Value(\"string\"),\n",
    "        \"Duration (seconds)\": Value(\"float\"),\n",
    "        \"Duration (days)\": Value(\"float\"),\n",
    "        \"Sentence\": Value(\"string\"),\n",
    "        \"Path\": Audio(sampling_rate=48_000),\n",
    "    }\n",
    ")\n",
    "\n",
    "# To prepare the csv:\n",
    "# add column 'audio' with absolut path to the audio files (Excel function: =CONCAT('path/to/audio_files/folder' B2))\n",
    "test_from_csv = load_dataset('csv', data_files={'test':\"/path/file.csv\", },)\n",
    "                                   # data_dir=\"/path/\")\n",
    "# trainset = DatasetDict()\n",
    "# file = open(\"/path/file.json\")\n",
    "# spl = json.load(file)\n",
    "# train = load_dataset('csv', data_files={'test': \"/path/file.csv\"})\n",
    "\n",
    "# trainset['train'] = train[\"test\"]\n",
    "\n",
    "# dataset = DatasetDict()\n",
    "# test_set = trainset[\"train\"].select(spl['1']['7'])\n",
    "test_from_csv = test_from_csv.cast(features)\n",
    "\n",
    "test_from_csv = test_from_csv.remove_columns(\n",
    "    [\"Unnamed: 0\",\"Root\", \"DialectRegion\", \"Age\", \"SpeakerID\", \"Group\", \"Gender\", \"Duration (seconds)\", \"Duration (days)\", \"CEF\", \"Component\"])\n",
    "\n",
    "test = test_from_csv['test']\n",
    "\n",
    "test['Path']\n",
    "print(\"----------------- Loading Datasets complete. -----------------\\n\\n\")"
   ]
  },
  {
   "cell_type": "code",
   "execution_count": null,
   "metadata": {},
   "outputs": [],
   "source": [
    "import re\n",
    "chars_to_remove_regex = '[\\,\\?\\.\\!\\-\\;\\:\\\"\\“\\%\\‘\\”\\�\\']'\n",
    "\n",
    "def remove_special_characters(batch):\n",
    "    batch[\"sentence\"] = re.sub(chars_to_remove_regex, '', batch[\"Sentence\"]).lower()\n",
    "    return batch\n",
    "\n",
    "test = test.map(remove_special_characters)"
   ]
  },
  {
   "cell_type": "code",
   "execution_count": null,
   "metadata": {
    "scrolled": true
   },
   "outputs": [],
   "source": [
    "from transformers import pipeline\n",
    "from datasets import load_dataset, load_metric, Audio, ClassLabel, load_from_disk, Features, Value\n",
    "import evaluate\n",
    "import pandas as pd\n",
    "\n",
    "transcriber = pipeline(\"automatic-speech-recognition\", model='modddddel/whisper-native-children-5-dutch', device=2,\n",
    "                      generate_kwargs = {\"language\":\"<|nl|>\",\"task\": \"transcribe\"},\n",
    "                      )\n",
    "\n",
    "wer = evaluate.load(\"wer\")\n",
    "labels = []\n",
    "preds = []\n",
    "i = 0\n",
    "\n",
    "for recording in test:\n",
    "    label = labels.append(recording['Sentence'])\n",
    "    pred = preds.append(transcriber(recording['Path'])['text'])\n",
    "    i += 1\n",
    "    print(str(i) + '/' + str(len(test)))\n",
    "    print('predicted: ' + preds[i-1])\n",
    "    print('actual: ' + labels[i-1])\n",
    "\n",
    "# Recommended: save the results in a CSV file to use later for comparison\n",
    "# (to avoid having to run the model(s) again)\n",
    "df = pd.DataFrame({'reference': labels, 'hypothesis': preds})\n",
    "df.to_csv('/path/file.csv')\n",
    "\n",
    "print( 100 * wer.compute(predictions=preds, references=labels))"
   ]
  },
  {
   "cell_type": "code",
   "execution_count": null,
   "metadata": {},
   "outputs": [],
   "source": [
    "import pandas as pd\n",
    "\n",
    "# Load the CSV file into a DataFrame\n",
    "file_path = '/path/file.csv'\n",
    "df = pd.read_csv(file_path)\n",
    "\n",
    "# Apply the regex operation to the 'hypothesis' column\n",
    "df['hypothesis'] = df['hypothesis'].replace(r'�\\s*', '', regex=True)\n",
    "\n",
    "# Save the modified DataFrame to a new CSV file\n",
    "output_file_path = \"/path/file.csv\"\n",
    "df.to_csv(output_file_path, index=False)\n"
   ]
  },
  {
   "cell_type": "code",
   "execution_count": null,
   "metadata": {
    "scrolled": true
   },
   "outputs": [],
   "source": [
    "import jiwer\n",
    "import pandas as pd\n",
    "\n",
    "df = pd.read_csv('/path/file.csv')\n",
    "\n",
    "out = jiwer.process_words(\n",
    "    df['reference'].values.tolist(),\n",
    "    df['hypothesis'].values.tolist(),\n",
    ")\n",
    "\n",
    "print(jiwer.visualize_alignment(out))"
   ]
  },
  {
   "cell_type": "code",
   "execution_count": null,
   "metadata": {},
   "outputs": [],
   "source": [
    "import pandas as pd\n",
    "\n",
    "# Load the CSV file into a DataFrame\n",
    "file_path = '/path/Data/data/meta/csv/nl/training/nc/results/results9_a.csv'\n",
    "df = pd.read_csv(file_path)\n",
    "\n",
    "# Apply the regex operation to the 'hypothesis' column\n",
    "df['hypothesis'] = df['hypothesis'].replace(r'�\\s*', '', regex=True)\n",
    "\n",
    "# Save the modified DataFrame to a new CSV file\n",
    "output_file_path = \"/path/Data/data/meta/csv/nl/training/nc/results/results9_a_modified.csv\"\n",
    "df.to_csv(output_file_path, index=False)\n"
   ]
  },
  {
   "cell_type": "code",
   "execution_count": null,
   "metadata": {
    "scrolled": true
   },
   "outputs": [],
   "source": [
    "import jiwer\n",
    "import pandas as pd\n",
    "\n",
    "df = pd.read_csv('/path/Data/data/meta/csv/nl/training/nc/results/results9_a_modified.csv')\n",
    "\n",
    "out = jiwer.process_words(\n",
    "    df['reference'].values.tolist(),\n",
    "    df['hypothesis'].values.tolist(),\n",
    ")\n",
    "\n",
    "print(jiwer.visualize_alignment(out))"
   ]
  },
  {
   "cell_type": "code",
   "execution_count": null,
   "metadata": {},
   "outputs": [],
   "source": []
  }
 ],
 "metadata": {
  "kernelspec": {
   "display_name": "Python 3 (ipykernel)",
   "language": "python",
   "name": "python3"
  },
  "language_info": {
   "codemirror_mode": {
    "name": "ipython",
    "version": 3
   },
   "file_extension": ".py",
   "mimetype": "text/x-python",
   "name": "python",
   "nbconvert_exporter": "python",
   "pygments_lexer": "ipython3",
   "version": "3.9.5"
  }
 },
 "nbformat": 4,
 "nbformat_minor": 4
}
