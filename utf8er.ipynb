{
 "cells": [
  {
   "cell_type": "code",
   "execution_count": 2,
   "id": "99f9c590-466e-4700-9b39-75c1904eb888",
   "metadata": {},
   "outputs": [
    {
     "name": "stdout",
     "output_type": "stream",
     "text": [
      "Tue Feb 20 13:35:23 2024       \n",
      "+---------------------------------------------------------------------------------------+\n",
      "| NVIDIA-SMI 545.23.08              Driver Version: 545.23.08    CUDA Version: 12.3     |\n",
      "|-----------------------------------------+----------------------+----------------------+\n",
      "| GPU  Name                 Persistence-M | Bus-Id        Disp.A | Volatile Uncorr. ECC |\n",
      "| Fan  Temp   Perf          Pwr:Usage/Cap |         Memory-Usage | GPU-Util  Compute M. |\n",
      "|                                         |                      |               MIG M. |\n",
      "|=========================================+======================+======================|\n",
      "|   0  NVIDIA A100-SXM4-40GB          On  | 00000000:CA:00.0 Off |                  Off |\n",
      "| N/A   34C    P0              95W / 400W |  13194MiB / 40960MiB |     51%      Default |\n",
      "|                                         |                      |             Disabled |\n",
      "+-----------------------------------------+----------------------+----------------------+\n",
      "                                                                                         \n",
      "+---------------------------------------------------------------------------------------+\n",
      "| Processes:                                                                            |\n",
      "|  GPU   GI   CI        PID   Type   Process name                            GPU Memory |\n",
      "|        ID   ID                                                             Usage      |\n",
      "|=======================================================================================|\n",
      "|    0   N/A  N/A   2684737      C   .../home2/gshekoufand/pvenv/bin/python    13180MiB |\n",
      "+---------------------------------------------------------------------------------------+\n"
     ]
    }
   ],
   "source": [
    "gpu_info = !nvidia-smi\n",
    "gpu_info = '\\n'.join(gpu_info)\n",
    "if gpu_info.find('failed') >= 0:\n",
    "  print('Not connected to a GPU')\n",
    "else:\n",
    "  print(gpu_info)"
   ]
  },
  {
   "cell_type": "code",
   "execution_count": 10,
   "id": "0341683f-bdab-4b80-9dc9-4536ca7d8c76",
   "metadata": {},
   "outputs": [],
   "source": [
    "# import csv\n",
    "\n",
    "# def convert_csv_to_utf8(input_file, output_file):\n",
    "#     with open(input_file, 'r', encoding= \"ISO-8859-1\") as infile, open(output_file, 'w', encoding='utf-8', newline='') as outfile:\n",
    "#         reader = csv.reader(infile)\n",
    "#         writer = csv.writer(outfile)\n",
    "\n",
    "#         for row in reader:\n",
    "#             writer.writerow(row)\n",
    "\n",
    "# # Example usage\n",
    "# input_csv_file = \"/gpfs/home2/gshekoufand/Data/data/meta/csv/nl/recordings55.csv\"\n",
    "# output_csv_file = \"/gpfs/home2/gshekoufand/Data/data/meta/csv/nl/recordings66.csv\"\n",
    "\n",
    "# convert_csv_to_utf8(input_csv_file, output_csv_file)\n"
   ]
  },
  {
   "cell_type": "code",
   "execution_count": null,
   "id": "59e5f835-a8e5-47e5-8b33-83e4faa99692",
   "metadata": {},
   "outputs": [],
   "source": []
  }
 ],
 "metadata": {
  "kernelspec": {
   "display_name": "Python 3 (ipykernel)",
   "language": "python",
   "name": "python3"
  },
  "language_info": {
   "codemirror_mode": {
    "name": "ipython",
    "version": 3
   },
   "file_extension": ".py",
   "mimetype": "text/x-python",
   "name": "python",
   "nbconvert_exporter": "python",
   "pygments_lexer": "ipython3",
   "version": "3.9.5"
  }
 },
 "nbformat": 4,
 "nbformat_minor": 5
}
